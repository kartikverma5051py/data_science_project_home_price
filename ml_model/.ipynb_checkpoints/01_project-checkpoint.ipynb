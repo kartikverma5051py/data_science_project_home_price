{
 "cells": [
  {
   "cell_type": "code",
   "execution_count": null,
   "id": "ddc80014",
   "metadata": {},
   "outputs": [],
   "source": [
    "import pandas as pd\n",
    "import numpy as np\n",
    "import matplotlib.pyplot as plt\n",
    "%matplotlib inline\n",
    "import matplotlib\n",
    "matplotlib.rcParams[\"figure.figsize\"]=(20,10)"
   ]
  },
  {
   "cell_type": "code",
   "execution_count": null,
   "id": "e85dd361",
   "metadata": {},
   "outputs": [],
   "source": [
    "# here i have load my dataset"
   ]
  },
  {
   "cell_type": "code",
   "execution_count": null,
   "id": "98f4a84f",
   "metadata": {},
   "outputs": [],
   "source": [
    "df = pd.read_csv(\"Bengaluru_House_Data.csv\")\n",
    "df.head()"
   ]
  },
  {
   "cell_type": "code",
   "execution_count": null,
   "id": "0f38b746",
   "metadata": {},
   "outputs": [],
   "source": [
    "df.shape"
   ]
  },
  {
   "cell_type": "code",
   "execution_count": null,
   "id": "c84c69ee",
   "metadata": {},
   "outputs": [],
   "source": [
    "df.groupby('area_type')['area_type'].agg('count')"
   ]
  },
  {
   "cell_type": "code",
   "execution_count": null,
   "id": "3c7c7878",
   "metadata": {},
   "outputs": [],
   "source": [
    "pd.get_dummies(df.availability).shape"
   ]
  },
  {
   "cell_type": "code",
   "execution_count": null,
   "id": "0040a2c5",
   "metadata": {},
   "outputs": [],
   "source": [
    "df1 = df.drop(['availability','society'],axis=1)"
   ]
  },
  {
   "cell_type": "code",
   "execution_count": null,
   "id": "9960daf3",
   "metadata": {},
   "outputs": [],
   "source": [
    "df2 = df1.replace({'area_type':{\n",
    "    \"Built-up  Area\":1,\n",
    "    \"Carpet  Area\":2,\n",
    "    \"Plot  Area\":3,\n",
    "    \"Super built-up  Area\":4\n",
    "}})\n",
    "df2"
   ]
  },
  {
   "cell_type": "code",
   "execution_count": null,
   "id": "9928f925",
   "metadata": {},
   "outputs": [],
   "source": [
    "df2.isnull().sum()"
   ]
  },
  {
   "cell_type": "code",
   "execution_count": null,
   "id": "2713e3e8",
   "metadata": {},
   "outputs": [],
   "source": [
    "df2 = df2.dropna()"
   ]
  },
  {
   "cell_type": "code",
   "execution_count": null,
   "id": "39b82394",
   "metadata": {},
   "outputs": [],
   "source": [
    "df2['bhk'] = df2['size'].apply(lambda x :int(x.split(\" \")[0]))"
   ]
  },
  {
   "cell_type": "code",
   "execution_count": null,
   "id": "5d52c391",
   "metadata": {},
   "outputs": [],
   "source": [
    "df2"
   ]
  },
  {
   "cell_type": "code",
   "execution_count": null,
   "id": "49339004",
   "metadata": {},
   "outputs": [],
   "source": [
    "df2['bhk'].unique()"
   ]
  },
  {
   "cell_type": "code",
   "execution_count": null,
   "id": "673cdbaf",
   "metadata": {},
   "outputs": [],
   "source": [
    "df2[df2.bhk>20]"
   ]
  },
  {
   "cell_type": "code",
   "execution_count": null,
   "id": "96592329",
   "metadata": {},
   "outputs": [],
   "source": [
    "df2.total_sqft.unique()"
   ]
  },
  {
   "cell_type": "code",
   "execution_count": null,
   "id": "c2ff8583",
   "metadata": {},
   "outputs": [],
   "source": [
    "def is_float(x):\n",
    "    try:\n",
    "        float(x)\n",
    "    except:\n",
    "        return False\n",
    "    return True\n",
    "    "
   ]
  },
  {
   "cell_type": "code",
   "execution_count": null,
   "id": "f203f4fa",
   "metadata": {},
   "outputs": [],
   "source": [
    "df2[~df2[\"total_sqft\"].apply(is_float)].head(10)"
   ]
  },
  {
   "cell_type": "code",
   "execution_count": null,
   "id": "223674ad",
   "metadata": {},
   "outputs": [],
   "source": [
    "def covert_sqft_to_num(x):\n",
    "    token = x.split('-')\n",
    "    if len(token) == 2:\n",
    "        return (float(token[0])+float(token[1]))/2\n",
    "    try:\n",
    "        return float(x)\n",
    "    except:\n",
    "        return None"
   ]
  },
  {
   "cell_type": "code",
   "execution_count": null,
   "id": "b4ce9783",
   "metadata": {},
   "outputs": [],
   "source": [
    "df3 = df2.copy()\n",
    "df3[\"total_sqft\"] = df3[\"total_sqft\"].apply(covert_sqft_to_num)\n",
    "df3.head(10)"
   ]
  },
  {
   "cell_type": "code",
   "execution_count": null,
   "id": "9f91da8c",
   "metadata": {},
   "outputs": [],
   "source": [
    "df3.tail(10)"
   ]
  },
  {
   "cell_type": "code",
   "execution_count": null,
   "id": "58608f0d",
   "metadata": {},
   "outputs": [],
   "source": [
    "df3.loc[30]"
   ]
  },
  {
   "cell_type": "code",
   "execution_count": null,
   "id": "f2391daa",
   "metadata": {},
   "outputs": [],
   "source": [
    "# in real state market PRICE of a area is per square fit "
   ]
  },
  {
   "cell_type": "code",
   "execution_count": null,
   "id": "55b75b1d",
   "metadata": {},
   "outputs": [],
   "source": [
    "df3[\"price_per_sqft\"] = df3[\"price\"]*100000/df3[\"total_sqft\"]\n",
    "df3.head()"
   ]
  },
  {
   "cell_type": "code",
   "execution_count": null,
   "id": "213cd95a",
   "metadata": {},
   "outputs": [],
   "source": [
    "# location is catagical feature so its in string \n",
    "# so let us cheak of many unique location"
   ]
  },
  {
   "cell_type": "code",
   "execution_count": null,
   "id": "04500839",
   "metadata": {},
   "outputs": [],
   "source": [
    "df3.location.unique()"
   ]
  },
  {
   "cell_type": "code",
   "execution_count": null,
   "id": "0e729209",
   "metadata": {},
   "outputs": [],
   "source": [
    "# total number of unique location \n",
    "df3.location.nunique()"
   ]
  },
  {
   "cell_type": "code",
   "execution_count": null,
   "id": "114d027b",
   "metadata": {},
   "outputs": [],
   "source": [
    "# i want to cheak how many time a particular location come\n",
    "df3.location = df3.location.apply(lambda x : x.strip()) # this will unnesscessary space in my location column\n",
    "location_stats  = df3.groupby(\"location\")[\"location\"].agg(\"count\")"
   ]
  },
  {
   "cell_type": "code",
   "execution_count": null,
   "id": "16443ebd",
   "metadata": {},
   "outputs": [],
   "source": [
    "location_stats.sort_values(ascending=False)"
   ]
  },
  {
   "cell_type": "code",
   "execution_count": null,
   "id": "3688395a",
   "metadata": {},
   "outputs": [],
   "source": [
    "len(location_stats[location_stats<=10])"
   ]
  },
  {
   "cell_type": "code",
   "execution_count": null,
   "id": "35f3658f",
   "metadata": {},
   "outputs": [],
   "source": [
    "location_stats_less_than_10 = location_stats[location_stats<=10] # this will give the location which less then ten value in count\n",
    "location_stats_less_than_10.tail(10)"
   ]
  },
  {
   "cell_type": "code",
   "execution_count": null,
   "id": "d9183fb2",
   "metadata": {},
   "outputs": [],
   "source": [
    "df3.location = df3.location.apply(lambda x : \"other\" if x in location_stats_less_than_10 else x) # this will give me that location which is great then 10 \n",
    "# why we done so because in one hot encoding if we don't remove these location our features will be to much that why we done so \n",
    "df3.location.nunique()"
   ]
  },
  {
   "cell_type": "code",
   "execution_count": null,
   "id": "29731af9",
   "metadata": {},
   "outputs": [],
   "source": [
    "df3"
   ]
  },
  {
   "cell_type": "code",
   "execution_count": null,
   "id": "a597fbb2",
   "metadata": {},
   "outputs": [],
   "source": [
    "df3.shape"
   ]
  },
  {
   "cell_type": "code",
   "execution_count": null,
   "id": "9ff45ad0",
   "metadata": {},
   "outputs": [],
   "source": [
    "# now we removing that bhk which has less the 100 per sqft fit\n",
    "df4 = df3[~(df3.total_sqft/df3.bhk<100)]\n",
    "# now see the shape u might see that rows value will change\n",
    "# and these remove rows are called out liears\n",
    "df4.shape"
   ]
  },
  {
   "cell_type": "code",
   "execution_count": null,
   "id": "2c160ad2",
   "metadata": {},
   "outputs": [],
   "source": [
    "df4.price_per_sqft.describe()\n",
    "# describe method gives statistics about paticular column"
   ]
  },
  {
   "cell_type": "code",
   "execution_count": null,
   "id": "e31902e6",
   "metadata": {},
   "outputs": [],
   "source": [
    "def remove_pps_outliers(df):\n",
    "    df_out = pd.DataFrame()\n",
    "    for key,subdf in df.groupby(\"location\"):\n",
    "        m = np.mean(subdf.price_per_sqft)\n",
    "        st = np.std(subdf.price_per_sqft)\n",
    "        reduce_df = subdf[(subdf.price_per_sqft>(m-st)) & (subdf.price_per_sqft<=(m+st))]\n",
    "        df_out = pd.concat([df_out,reduce_df],ignore_index=True)\n",
    "    return df_out"
   ]
  },
  {
   "cell_type": "code",
   "execution_count": null,
   "id": "f85098a7",
   "metadata": {},
   "outputs": [],
   "source": [
    "df5 = remove_pps_outliers(df4)\n",
    "df5.shape"
   ]
  },
  {
   "cell_type": "code",
   "execution_count": null,
   "id": "8e85f72e",
   "metadata": {},
   "outputs": [],
   "source": [
    "%matplotlib inline\n",
    "def plot_scatter_chart(df,location):\n",
    "    bhk2 = df[(df.location==location) & (df.bhk == 2)]\n",
    "    bhk3 = df[(df.location == location) & (df.bhk == 3)]\n",
    "    matplotlib.rcParams[\"figure.figsize\"] = (15,10)\n",
    "    plt.scatter(bhk2.total_sqft,bhk2.price,color = \"Blue\",label = \"2 BHK\",s = 50)\n",
    "    plt.scatter(bhk3.total_sqft,bhk3.price,marker = \"+\",color=\"green\",label = \"3 Bhk\",s =50)\n",
    "    plt.xlabel(\"Total square feet Area\")\n",
    "    plt.ylabel(\"Price per square Feet\")\n",
    "    plt.title(location)\n",
    "    plt.legend()\n",
    "\n",
    "\n",
    "plot_scatter_chart(df5,\"Rajaji Nagar\")"
   ]
  },
  {
   "cell_type": "code",
   "execution_count": null,
   "id": "cd88305e",
   "metadata": {},
   "outputs": [],
   "source": [
    "### we should also remove properties where for same location , the price of (for example) 3 bedroom apartment is less than 2 bedroom apartment (with same square ft area)\n",
    "# Now we can remove those 2 bhk apartments whose price_per_sqft is less than mean price_per_sqft of 1 bhk apartment"
   ]
  },
  {
   "cell_type": "code",
   "execution_count": null,
   "id": "60eac1fc",
   "metadata": {},
   "outputs": [],
   "source": [
    "def remove_bhk_outliers(df):\n",
    "    exclude_indices = np.array([])\n",
    "    for location ,location_df in df.groupby(\"location\"):\n",
    "        bhk_stats = {}\n",
    "        for bhk ,bhk_df in location_df.groupby(\"bhk\"):\n",
    "            bhk_stats[bhk] = {\n",
    "                \"mean\":np.mean(bhk_df.price_per_sqft),\n",
    "                \"std\": np.std(bhk_df.price_per_sqft),\n",
    "                \"count\": bhk_df.shape[0]\n",
    "            }\n",
    "        for bhk , bhk_df in location_df.groupby(\"bhk\"):\n",
    "            stats = bhk_stats.get(bhk-1)\n",
    "            if stats and stats[\"count\"]>5:\n",
    "                exclude_indices = np.append(exclude_indices,bhk_df[bhk_df.price_per_sqft<(stats[\"mean\"])].index.values)\n",
    "    return df.drop(exclude_indices,axis=\"index\")"
   ]
  },
  {
   "cell_type": "code",
   "execution_count": null,
   "id": "669280e3",
   "metadata": {},
   "outputs": [],
   "source": [
    "df6 = remove_bhk_outliers(df5)\n",
    "df6.shape"
   ]
  },
  {
   "cell_type": "code",
   "execution_count": null,
   "id": "8720041e",
   "metadata": {},
   "outputs": [],
   "source": [
    "df6"
   ]
  },
  {
   "cell_type": "code",
   "execution_count": null,
   "id": "ae4d5259",
   "metadata": {},
   "outputs": [],
   "source": [
    "# now again we plot the graph to cheack that 2 bhk price are higher or not then 3 bhk\n",
    "plot_scatter_chart(df6,\"Hebbal\")\n",
    "# now u can see that most of the blue dot lies below the greeen one it mean our 3 bhk price is hiher then 2 bhk "
   ]
  },
  {
   "cell_type": "code",
   "execution_count": null,
   "id": "138946b6",
   "metadata": {},
   "outputs": [],
   "source": [
    "# now i want to plot a histogram to see price per square feet\n",
    "import matplotlib\n",
    "matplotlib.rcParams[\"figure.figsize\"] = (20,10)\n",
    "plt.hist(df6.price_per_sqft,rwidth=0.8)\n",
    "plt.xlabel(\"Price Per Square Feet\")\n",
    "plt.ylabel(\"Count\")"
   ]
  },
  {
   "cell_type": "code",
   "execution_count": null,
   "id": "6ebbcaaf",
   "metadata": {},
   "outputs": [],
   "source": [
    "df6.bath.unique()"
   ]
  },
  {
   "cell_type": "code",
   "execution_count": null,
   "id": "eefeead0",
   "metadata": {},
   "outputs": [],
   "source": [
    "df6[df6.bath>10]"
   ]
  },
  {
   "cell_type": "code",
   "execution_count": null,
   "id": "27c08f96",
   "metadata": {},
   "outputs": [],
   "source": [
    "df7 = df6[df6.bath<df6.bhk+2]\n",
    "df7.shape"
   ]
  },
  {
   "cell_type": "code",
   "execution_count": null,
   "id": "2631ff6f",
   "metadata": {},
   "outputs": [],
   "source": [
    "df7"
   ]
  },
  {
   "cell_type": "code",
   "execution_count": null,
   "id": "7576ad40",
   "metadata": {},
   "outputs": [],
   "source": [
    "df8 = df7.drop([\"price_per_sqft\",\"size\" ],axis=1)"
   ]
  },
  {
   "cell_type": "code",
   "execution_count": null,
   "id": "ba433177",
   "metadata": {},
   "outputs": [],
   "source": [
    "dumies = pd.get_dummies(df8.location)\n",
    "dumies = dumies.drop([\"other\"] ,axis=1)\n"
   ]
  },
  {
   "cell_type": "code",
   "execution_count": null,
   "id": "ad23fee2",
   "metadata": {},
   "outputs": [],
   "source": [
    "df9 = pd.concat([df8,dumies],axis=\"columns\")"
   ]
  },
  {
   "cell_type": "code",
   "execution_count": null,
   "id": "1db510b1",
   "metadata": {},
   "outputs": [],
   "source": [
    "df10 = df9.drop(['location',\"area_type\",\"balcony\"],axis=1)"
   ]
  },
  {
   "cell_type": "code",
   "execution_count": null,
   "id": "04cc30cf",
   "metadata": {},
   "outputs": [],
   "source": [
    "df10"
   ]
  },
  {
   "cell_type": "code",
   "execution_count": null,
   "id": "b390787b",
   "metadata": {},
   "outputs": [],
   "source": [
    "x = df10.drop('price',axis=1) # here we drop price because it was dependent variable"
   ]
  },
  {
   "cell_type": "code",
   "execution_count": null,
   "id": "6c283f6b",
   "metadata": {},
   "outputs": [],
   "source": [
    "y = df10.price\n"
   ]
  },
  {
   "cell_type": "code",
   "execution_count": null,
   "id": "cca14235",
   "metadata": {},
   "outputs": [],
   "source": [
    "from sklearn.model_selection import train_test_split\n",
    "x_train ,x_test ,y_train,y_test = train_test_split(x,y,test_size=0.2,random_state=42)"
   ]
  },
  {
   "cell_type": "code",
   "execution_count": null,
   "id": "de19da06",
   "metadata": {},
   "outputs": [],
   "source": [
    "from sklearn.linear_model import LinearRegression\n",
    "model = LinearRegression()\n",
    "model.fit(x_train,y_train)\n",
    "model.score(x_test,y_test)"
   ]
  },
  {
   "cell_type": "code",
   "execution_count": null,
   "id": "94b05f98",
   "metadata": {},
   "outputs": [],
   "source": [
    "from sklearn.model_selection import ShuffleSplit\n",
    "from sklearn.model_selection import cross_val_score\n"
   ]
  },
  {
   "cell_type": "code",
   "execution_count": null,
   "id": "2cf92da8",
   "metadata": {},
   "outputs": [],
   "source": [
    "from sklearn.linear_model import Lasso\n",
    "from sklearn.tree import DecisionTreeRegressor\n",
    "from sklearn.ensemble import RandomForestRegressor\n",
    "def find_best_model_using_gridsearchcv(x,y):\n",
    "    algos =  {\n",
    "        \"Linear_Regression\" :{\n",
    "            \"model1\": LinearRegression(),\n",
    "            \"params\":{\n",
    "                \"normalize\":[True,False]\n",
    "\n",
    "            }\n",
    "        },\n",
    "        \"lasso\":{\n",
    "            \"model1\":Lasso(),\n",
    "            \"params\":{\n",
    "                \"alpha\":[1,2],\n",
    "                \"selection\":[\"random\",\"cyclic\"]\n",
    "            }\n",
    "        },\n",
    "        \"decision_tree\":{\n",
    "            \"model1\":DecisionTreeRegressor(),\n",
    "            \"params\":{\n",
    "                \"criterion\" : [\"mse\",\"friedman_mse\"],\n",
    "                \"splitter\":[\"best\",\"random\"]\n",
    "            }\n",
    "        },\n",
    "        \"RandomForestRegressor\":{\n",
    "            \"model1\":RandomForestRegressor(),\n",
    "            \"params\" :{\n",
    "                \"n_estimators\":[20,50,60]\n",
    "                        \n",
    "        \n",
    "        }\n",
    "        }\n",
    "\n",
    "    }\n",
    "    from sklearn.model_selection import GridSearchCV\n",
    "    scores = []\n",
    "    cv = ShuffleSplit(n_splits=5,test_size=0.2,random_state=42)\n",
    "    for algo_name ,config in algos.items():\n",
    "        gs = GridSearchCV(config[\"model1\"],config[\"params\"],cv =cv ,return_train_score=False)\n",
    "        gs.fit(x,y)\n",
    "        scores.append({\n",
    "        \"model1\":algo_name,\n",
    "        \"best_score\":gs.best_score_,\n",
    "        \"best_params\":gs.best_params_\n",
    "    })\n",
    "    return pd.DataFrame(scores,columns=[\"model1\",\"best_score\",\"best_params\"])"
   ]
  },
  {
   "cell_type": "code",
   "execution_count": null,
   "id": "1af27c38",
   "metadata": {},
   "outputs": [],
   "source": [
    "find_best_model_using_gridsearchcv(x,y)"
   ]
  },
  {
   "cell_type": "code",
   "execution_count": null,
   "id": "b69b8557",
   "metadata": {},
   "outputs": [],
   "source": [
    "x.columns"
   ]
  },
  {
   "cell_type": "code",
   "execution_count": null,
   "id": "749ffbaf",
   "metadata": {},
   "outputs": [],
   "source": [
    "def predict_price(location,sqft,bath,bhk):\n",
    "    loc_index = np.where(x.columns == location)\n",
    "    X = np.zeros(len(x.columns))\n",
    "    X[0] = sqft\n",
    "    X[1] = bath\n",
    "    X[2] = bhk\n",
    "    if loc_index != 0:\n",
    "        X[loc_index] = 1\n",
    "    return model.predict([X])[0]"
   ]
  },
  {
   "cell_type": "code",
   "execution_count": null,
   "id": "ac9eeb9a",
   "metadata": {},
   "outputs": [],
   "source": [
    "predict_price(\"1th Phase JP Nagar'\",1000,2,2)"
   ]
  },
  {
   "cell_type": "code",
   "execution_count": null,
   "id": "c720ffc9",
   "metadata": {},
   "outputs": [],
   "source": [
    "predict_price(\"Indira Nagar\",1000,3,3)"
   ]
  },
  {
   "cell_type": "code",
   "execution_count": null,
   "id": "ec0dae54",
   "metadata": {},
   "outputs": [],
   "source": [
    "# now we  will be pickel the model use it in website"
   ]
  },
  {
   "cell_type": "code",
   "execution_count": null,
   "id": "b4f3b1b3",
   "metadata": {},
   "outputs": [],
   "source": [
    "import pickle\n",
    "with open(\"Banglore_home_prices_model.pickle\",\"wb\") as f:\n",
    "    pickle.dump(model,f)"
   ]
  },
  {
   "cell_type": "code",
   "execution_count": null,
   "id": "61fe05b7",
   "metadata": {},
   "outputs": [],
   "source": [
    "import json \n",
    "columns = {\n",
    "    \"data_columns\" : [col.lower() for col in x.columns]\n",
    "}\n",
    "with open(\"columns.json\",\"w\") as f:\n",
    "    f.write(json.dumps(columns))"
   ]
  },
  {
   "cell_type": "code",
   "execution_count": null,
   "id": "f2d7ce0d",
   "metadata": {},
   "outputs": [],
   "source": []
  }
 ],
 "metadata": {
  "kernelspec": {
   "display_name": "Python 3 (ipykernel)",
   "language": "python",
   "name": "python3"
  },
  "language_info": {
   "codemirror_mode": {
    "name": "ipython",
    "version": 3
   },
   "file_extension": ".py",
   "mimetype": "text/x-python",
   "name": "python",
   "nbconvert_exporter": "python",
   "pygments_lexer": "ipython3",
   "version": "3.9.6"
  }
 },
 "nbformat": 4,
 "nbformat_minor": 5
}
